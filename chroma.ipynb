{
 "cells": [
  {
   "cell_type": "code",
   "execution_count": 10,
   "id": "ceeab849",
   "metadata": {},
   "outputs": [],
   "source": [
    "import chromadb\n",
    "\n",
    "client = chromadb.PersistentClient(path=\"db\")\n",
    "collection = client.get_or_create_collection(\"Micla\")"
   ]
  },
  {
   "cell_type": "code",
   "execution_count": 11,
   "id": "54b604a2",
   "metadata": {},
   "outputs": [],
   "source": [
    "import pdfplumber\n",
    "from typing import List, Tuple, Dict\n",
    "\n",
    "def extract_text_by_page(pdf_path: str) -> List[Tuple[int, str]]:\n",
    "    \"\"\"\n",
    "    Extracts text from each page of the PDF.\n",
    "    Returns a list of tuples: (page_number, page_text).\n",
    "    \"\"\"\n",
    "    pages = []\n",
    "    with pdfplumber.open(pdf_path) as pdf:\n",
    "        for i, page in enumerate(pdf.pages, start=1):\n",
    "            text = page.extract_text() or \"\"\n",
    "            pages.append((i, text))\n",
    "    return pages\n"
   ]
  },
  {
   "cell_type": "code",
   "execution_count": 12,
   "id": "98ff534d",
   "metadata": {},
   "outputs": [],
   "source": [
    "\n",
    "\n",
    "from langchain_text_splitters import CharacterTextSplitter\n",
    "import os\n",
    "\n",
    "USE_LANGCHAIN = True  #\n",
    "def chunk_pages(\n",
    "    pdf_path: str,\n",
    "    pages: List[Tuple[int, str]],\n",
    "    chunk_size: int = 1000,\n",
    "    chunk_overlap: int = 200\n",
    ") -> Tuple[List[str], List[Dict]]:\n",
    "    \"\"\"\n",
    "    Splits page texts into overlapping chunks.\n",
    "    Returns two lists: texts and corresponding metadata dicts.\n",
    "    Metadata includes: source filename, page number, chunk index.\n",
    "    \"\"\"\n",
    "    texts: List[str] = []\n",
    "    metadatas: List[Dict] = []\n",
    "\n",
    "    splitter = CharacterTextSplitter(\n",
    "        chunk_size=chunk_size,\n",
    "        chunk_overlap=chunk_overlap\n",
    "    )\n",
    "\n",
    "    for page_num, text in pages:\n",
    "        if not text.strip():\n",
    "            continue\n",
    "\n",
    "        # Use langchain splitter\n",
    "        chunks = splitter.split_text(text)\n",
    "\n",
    "        for idx, chunk in enumerate(chunks, start=1):\n",
    "            texts.append(chunk)\n",
    "            metadatas.append({\n",
    "                \"source\": os.path.basename(pdf_path),\n",
    "                \"page\": page_num,\n",
    "                \"chunk_id\": idx\n",
    "            })\n",
    "    return texts, metadatas\n"
   ]
  },
  {
   "cell_type": "code",
   "execution_count": 13,
   "id": "e4149ba9",
   "metadata": {},
   "outputs": [],
   "source": [
    "def prepare_pdf_for_rag(\n",
    "    pdf_path: str,\n",
    "    chunk_size: int = 1000,\n",
    "    chunk_overlap: int = 200\n",
    ") -> Tuple[List[str], List[Dict]]:\n",
    "    \"\"\"\n",
    "    Full pipeline: extract pages, chunk them, and return texts + metadata.\n",
    "    \"\"\"\n",
    "    pages = extract_text_by_page(pdf_path)\n",
    "    texts, metadatas = chunk_pages(pdf_path, pages, chunk_size, chunk_overlap)\n",
    "    return texts, metadatas\n"
   ]
  },
  {
   "cell_type": "code",
   "execution_count": 16,
   "id": "25886d68",
   "metadata": {},
   "outputs": [],
   "source": [
    "pdf_file = \"files/auto_elec_cdx.pdf\""
   ]
  },
  {
   "cell_type": "code",
   "execution_count": 17,
   "id": "526c274b",
   "metadata": {},
   "outputs": [
    {
     "name": "stdout",
     "output_type": "stream",
     "text": [
      "Prepared 435 chunks from auto_elec_cdx.pdf\n",
      "First chunk preview:\n",
      "MASTER\n",
      "AUTOMOTIVE\n",
      "TECHNICIAN SERIES\n",
      "We support ASE\n",
      "program certification\n",
      "through\n",
      "Automotive Electricity\n",
      "and Electronics\n",
      "David M. Jones\n",
      "Instructor, Ivy Tech\n",
      "Fort Wayne, Indiana\n",
      "Kirk VanGelder\n",
      "ASE Certi ...\n",
      "Metadata: {'source': 'auto_elec_cdx.pdf', 'page': 2, 'chunk_id': 1}\n"
     ]
    }
   ],
   "source": [
    "texts, metadatas = prepare_pdf_for_rag(\n",
    "    pdf_file,\n",
    "    chunk_size=1500,\n",
    "    chunk_overlap=300\n",
    ")\n",
    "total_chunks = len(texts)\n",
    "print(f\"Prepared {total_chunks} chunks from {os.path.basename(pdf_file)}\")\n",
    "if total_chunks > 0:\n",
    "    print(\"First chunk preview:\")\n",
    "    print(texts[0][:200], \"...\")\n",
    "    print(\"Metadata:\", metadatas[0])"
   ]
  },
  {
   "cell_type": "code",
   "execution_count": 19,
   "id": "b69c67df",
   "metadata": {},
   "outputs": [
    {
     "name": "stderr",
     "output_type": "stream",
     "text": [
      "C:\\Users\\Taha\\.cache\\chroma\\onnx_models\\all-MiniLM-L6-v2\\onnx.tar.gz: 100%|██████████| 79.3M/79.3M [01:49<00:00, 760kiB/s] \n"
     ]
    }
   ],
   "source": [
    "import uuid\n",
    "\n",
    "ids = [str(uuid.uuid4()) for _ in texts]\n",
    "collection.add(documents=texts, metadatas=metadatas, ids=ids)"
   ]
  },
  {
   "cell_type": "code",
   "execution_count": null,
   "id": "4b19736d",
   "metadata": {},
   "outputs": [],
   "source": []
  }
 ],
 "metadata": {
  "kernelspec": {
   "display_name": ".venv",
   "language": "python",
   "name": "python3"
  },
  "language_info": {
   "codemirror_mode": {
    "name": "ipython",
    "version": 3
   },
   "file_extension": ".py",
   "mimetype": "text/x-python",
   "name": "python",
   "nbconvert_exporter": "python",
   "pygments_lexer": "ipython3",
   "version": "3.13.2"
  }
 },
 "nbformat": 4,
 "nbformat_minor": 5
}
